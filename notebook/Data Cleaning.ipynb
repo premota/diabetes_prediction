{
 "cells": [
  {
   "cell_type": "markdown",
   "id": "e459eb70-5f98-4bbe-9176-e4c09a124801",
   "metadata": {
    "tags": []
   },
   "source": [
    "# Data Cleaning"
   ]
  },
  {
   "cell_type": "markdown",
   "id": "6c4e40c8-7577-4334-8ba9-11473c660f08",
   "metadata": {},
   "source": [
    "**Research:**\n",
    "\n",
    "**BMI**\n",
    "- Plausible Minimum BMI: 12. This is the lower bound for BMI, where survival is possible but associated with extreme underweight and significant health risks.\n",
    "- Plausible Maximum BMI: 70. This represents the upper bound, typically seen in extreme cases of severe obesity, with significant health risks and medical complications.\n",
    "\n",
    "**HbA1c_level**\n",
    "- Normal Range: Below 5.7%\n",
    "- Pre-diabetes: 5.7% to 6.4%\n",
    "- Diabetes: 6.5% or higher.\n",
    "\n",
    "**Plausible Ranges for blood_glucose_level:**\n",
    "- Minimum value: Around 40 mg/dL (2.2 mmol/L), though such low levels would indicate hypoglycemia, which is a medical emergency.\n",
    "- Maximum value: Up to 600 mg/dL (33.3 mmol/L) or more, though values this high are typically seen in severe cases of uncontrolled diabetes."
   ]
  },
  {
   "cell_type": "markdown",
   "id": "01c53f5d-5ac1-4877-bfdc-7211c3153ddc",
   "metadata": {
    "tags": []
   },
   "source": [
    "# Import Packages"
   ]
  },
  {
   "cell_type": "code",
   "execution_count": 1,
   "id": "0d6bb9d1-2d7b-48b8-b81b-83bb3ba37f94",
   "metadata": {
    "tags": []
   },
   "outputs": [],
   "source": [
    "import pandas as pd\n",
    "import numpy as np\n",
    "import matplotlib.pyplot as plt\n",
    "import seaborn as sns"
   ]
  },
  {
   "cell_type": "markdown",
   "id": "2f083a5f-cc38-4204-ad29-18f9a3a21cf0",
   "metadata": {
    "tags": []
   },
   "source": [
    "# Read data"
   ]
  },
  {
   "cell_type": "code",
   "execution_count": 2,
   "id": "b8daaa7c-d354-4b0d-8b80-ae661218565a",
   "metadata": {
    "tags": []
   },
   "outputs": [],
   "source": [
    "data = pd.read_csv(\"diabetes_prediction_dataset.csv\")"
   ]
  },
  {
   "cell_type": "code",
   "execution_count": 3,
   "id": "6bd3af11-44d7-4de3-8b1f-40e2e916104b",
   "metadata": {
    "tags": []
   },
   "outputs": [
    {
     "data": {
      "text/html": [
       "<div>\n",
       "<style scoped>\n",
       "    .dataframe tbody tr th:only-of-type {\n",
       "        vertical-align: middle;\n",
       "    }\n",
       "\n",
       "    .dataframe tbody tr th {\n",
       "        vertical-align: top;\n",
       "    }\n",
       "\n",
       "    .dataframe thead th {\n",
       "        text-align: right;\n",
       "    }\n",
       "</style>\n",
       "<table border=\"1\" class=\"dataframe\">\n",
       "  <thead>\n",
       "    <tr style=\"text-align: right;\">\n",
       "      <th></th>\n",
       "      <th>gender</th>\n",
       "      <th>age</th>\n",
       "      <th>hypertension</th>\n",
       "      <th>heart_disease</th>\n",
       "      <th>smoking_history</th>\n",
       "      <th>bmi</th>\n",
       "      <th>HbA1c_level</th>\n",
       "      <th>blood_glucose_level</th>\n",
       "      <th>diabetes</th>\n",
       "    </tr>\n",
       "  </thead>\n",
       "  <tbody>\n",
       "    <tr>\n",
       "      <th>0</th>\n",
       "      <td>Female</td>\n",
       "      <td>80.0</td>\n",
       "      <td>0</td>\n",
       "      <td>1</td>\n",
       "      <td>never</td>\n",
       "      <td>25.19</td>\n",
       "      <td>6.6</td>\n",
       "      <td>140</td>\n",
       "      <td>0</td>\n",
       "    </tr>\n",
       "    <tr>\n",
       "      <th>1</th>\n",
       "      <td>Female</td>\n",
       "      <td>54.0</td>\n",
       "      <td>0</td>\n",
       "      <td>0</td>\n",
       "      <td>No Info</td>\n",
       "      <td>27.32</td>\n",
       "      <td>6.6</td>\n",
       "      <td>80</td>\n",
       "      <td>0</td>\n",
       "    </tr>\n",
       "    <tr>\n",
       "      <th>2</th>\n",
       "      <td>Male</td>\n",
       "      <td>28.0</td>\n",
       "      <td>0</td>\n",
       "      <td>0</td>\n",
       "      <td>never</td>\n",
       "      <td>27.32</td>\n",
       "      <td>5.7</td>\n",
       "      <td>158</td>\n",
       "      <td>0</td>\n",
       "    </tr>\n",
       "    <tr>\n",
       "      <th>3</th>\n",
       "      <td>Female</td>\n",
       "      <td>36.0</td>\n",
       "      <td>0</td>\n",
       "      <td>0</td>\n",
       "      <td>current</td>\n",
       "      <td>23.45</td>\n",
       "      <td>5.0</td>\n",
       "      <td>155</td>\n",
       "      <td>0</td>\n",
       "    </tr>\n",
       "    <tr>\n",
       "      <th>4</th>\n",
       "      <td>Male</td>\n",
       "      <td>76.0</td>\n",
       "      <td>1</td>\n",
       "      <td>1</td>\n",
       "      <td>current</td>\n",
       "      <td>20.14</td>\n",
       "      <td>4.8</td>\n",
       "      <td>155</td>\n",
       "      <td>0</td>\n",
       "    </tr>\n",
       "  </tbody>\n",
       "</table>\n",
       "</div>"
      ],
      "text/plain": [
       "   gender   age  hypertension  heart_disease smoking_history    bmi  \\\n",
       "0  Female  80.0             0              1           never  25.19   \n",
       "1  Female  54.0             0              0         No Info  27.32   \n",
       "2    Male  28.0             0              0           never  27.32   \n",
       "3  Female  36.0             0              0         current  23.45   \n",
       "4    Male  76.0             1              1         current  20.14   \n",
       "\n",
       "   HbA1c_level  blood_glucose_level  diabetes  \n",
       "0          6.6                  140         0  \n",
       "1          6.6                   80         0  \n",
       "2          5.7                  158         0  \n",
       "3          5.0                  155         0  \n",
       "4          4.8                  155         0  "
      ]
     },
     "execution_count": 3,
     "metadata": {},
     "output_type": "execute_result"
    }
   ],
   "source": [
    "data.head()"
   ]
  },
  {
   "cell_type": "markdown",
   "id": "0234123d-9675-4536-9989-96f6d600d63c",
   "metadata": {
    "tags": []
   },
   "source": [
    "# check data types"
   ]
  },
  {
   "cell_type": "code",
   "execution_count": 4,
   "id": "8551aec2-b102-4a06-9803-76197a97f598",
   "metadata": {
    "tags": []
   },
   "outputs": [
    {
     "data": {
      "text/plain": [
       "gender                  object\n",
       "age                    float64\n",
       "hypertension             int64\n",
       "heart_disease            int64\n",
       "smoking_history         object\n",
       "bmi                    float64\n",
       "HbA1c_level            float64\n",
       "blood_glucose_level      int64\n",
       "diabetes                 int64\n",
       "dtype: object"
      ]
     },
     "execution_count": 4,
     "metadata": {},
     "output_type": "execute_result"
    }
   ],
   "source": [
    "data.dtypes"
   ]
  },
  {
   "cell_type": "markdown",
   "id": "99efe6c5-d99c-40ef-9b3f-effe738bfbba",
   "metadata": {},
   "source": [
    "- Convert age to integer"
   ]
  },
  {
   "cell_type": "code",
   "execution_count": 5,
   "id": "a75a00c7-5cbe-4a49-a54d-2f472a4b3517",
   "metadata": {
    "tags": []
   },
   "outputs": [],
   "source": [
    "data[\"age\"] = data[\"age\"].astype(int)"
   ]
  },
  {
   "cell_type": "code",
   "execution_count": null,
   "id": "6bb51afa-42ee-4e32-bcc9-1f33fa145fd7",
   "metadata": {},
   "outputs": [],
   "source": []
  },
  {
   "cell_type": "markdown",
   "id": "89f05c37-bc5e-4db0-9304-8479b5daec25",
   "metadata": {
    "tags": []
   },
   "source": [
    "# Check for missing values"
   ]
  },
  {
   "cell_type": "code",
   "execution_count": 6,
   "id": "056b225a-7a87-4ebd-b73d-2fb90c1508b6",
   "metadata": {
    "tags": []
   },
   "outputs": [
    {
     "data": {
      "text/plain": [
       "gender                 0\n",
       "age                    0\n",
       "hypertension           0\n",
       "heart_disease          0\n",
       "smoking_history        0\n",
       "bmi                    0\n",
       "HbA1c_level            0\n",
       "blood_glucose_level    0\n",
       "diabetes               0\n",
       "dtype: int64"
      ]
     },
     "execution_count": 6,
     "metadata": {},
     "output_type": "execute_result"
    }
   ],
   "source": [
    "data.isnull().sum()"
   ]
  },
  {
   "cell_type": "code",
   "execution_count": null,
   "id": "423862ce-c1f7-47b9-8862-6a06f7f54c4e",
   "metadata": {},
   "outputs": [],
   "source": []
  },
  {
   "cell_type": "markdown",
   "id": "ade0c73e-8099-4a8b-a3f2-79b2c96f2f85",
   "metadata": {
    "tags": []
   },
   "source": [
    "# Remove duplcate"
   ]
  },
  {
   "cell_type": "code",
   "execution_count": 7,
   "id": "98996056-c79a-4a9f-993a-5024270c8701",
   "metadata": {
    "tags": []
   },
   "outputs": [],
   "source": [
    "data = data.drop_duplicates(keep = \"first\")"
   ]
  },
  {
   "cell_type": "code",
   "execution_count": null,
   "id": "5d776908-cb81-4398-96ef-432a07523881",
   "metadata": {},
   "outputs": [],
   "source": []
  },
  {
   "cell_type": "markdown",
   "id": "df463176-9d03-4f26-b758-c366a6dc576e",
   "metadata": {
    "tags": []
   },
   "source": [
    "# Descriptive statistics for numerical features"
   ]
  },
  {
   "cell_type": "code",
   "execution_count": 8,
   "id": "c2e1397f-64ab-48ee-9787-f17bd2eb4afe",
   "metadata": {
    "tags": []
   },
   "outputs": [
    {
     "data": {
      "text/html": [
       "<div>\n",
       "<style scoped>\n",
       "    .dataframe tbody tr th:only-of-type {\n",
       "        vertical-align: middle;\n",
       "    }\n",
       "\n",
       "    .dataframe tbody tr th {\n",
       "        vertical-align: top;\n",
       "    }\n",
       "\n",
       "    .dataframe thead th {\n",
       "        text-align: right;\n",
       "    }\n",
       "</style>\n",
       "<table border=\"1\" class=\"dataframe\">\n",
       "  <thead>\n",
       "    <tr style=\"text-align: right;\">\n",
       "      <th></th>\n",
       "      <th>count</th>\n",
       "      <th>mean</th>\n",
       "      <th>std</th>\n",
       "      <th>min</th>\n",
       "      <th>25%</th>\n",
       "      <th>50%</th>\n",
       "      <th>75%</th>\n",
       "      <th>max</th>\n",
       "    </tr>\n",
       "  </thead>\n",
       "  <tbody>\n",
       "    <tr>\n",
       "      <th>age</th>\n",
       "      <td>96112.0</td>\n",
       "      <td>41.798287</td>\n",
       "      <td>22.472901</td>\n",
       "      <td>0.00</td>\n",
       "      <td>24.0</td>\n",
       "      <td>43.00</td>\n",
       "      <td>59.00</td>\n",
       "      <td>80.00</td>\n",
       "    </tr>\n",
       "    <tr>\n",
       "      <th>hypertension</th>\n",
       "      <td>96112.0</td>\n",
       "      <td>0.077628</td>\n",
       "      <td>0.267587</td>\n",
       "      <td>0.00</td>\n",
       "      <td>0.0</td>\n",
       "      <td>0.00</td>\n",
       "      <td>0.00</td>\n",
       "      <td>1.00</td>\n",
       "    </tr>\n",
       "    <tr>\n",
       "      <th>heart_disease</th>\n",
       "      <td>96112.0</td>\n",
       "      <td>0.040817</td>\n",
       "      <td>0.197867</td>\n",
       "      <td>0.00</td>\n",
       "      <td>0.0</td>\n",
       "      <td>0.00</td>\n",
       "      <td>0.00</td>\n",
       "      <td>1.00</td>\n",
       "    </tr>\n",
       "    <tr>\n",
       "      <th>bmi</th>\n",
       "      <td>96112.0</td>\n",
       "      <td>27.321923</td>\n",
       "      <td>6.768534</td>\n",
       "      <td>10.01</td>\n",
       "      <td>23.4</td>\n",
       "      <td>27.32</td>\n",
       "      <td>29.86</td>\n",
       "      <td>95.69</td>\n",
       "    </tr>\n",
       "    <tr>\n",
       "      <th>HbA1c_level</th>\n",
       "      <td>96112.0</td>\n",
       "      <td>5.532618</td>\n",
       "      <td>1.073288</td>\n",
       "      <td>3.50</td>\n",
       "      <td>4.8</td>\n",
       "      <td>5.80</td>\n",
       "      <td>6.20</td>\n",
       "      <td>9.00</td>\n",
       "    </tr>\n",
       "    <tr>\n",
       "      <th>blood_glucose_level</th>\n",
       "      <td>96112.0</td>\n",
       "      <td>138.221013</td>\n",
       "      <td>40.911287</td>\n",
       "      <td>80.00</td>\n",
       "      <td>100.0</td>\n",
       "      <td>140.00</td>\n",
       "      <td>159.00</td>\n",
       "      <td>300.00</td>\n",
       "    </tr>\n",
       "    <tr>\n",
       "      <th>diabetes</th>\n",
       "      <td>96112.0</td>\n",
       "      <td>0.088251</td>\n",
       "      <td>0.283661</td>\n",
       "      <td>0.00</td>\n",
       "      <td>0.0</td>\n",
       "      <td>0.00</td>\n",
       "      <td>0.00</td>\n",
       "      <td>1.00</td>\n",
       "    </tr>\n",
       "  </tbody>\n",
       "</table>\n",
       "</div>"
      ],
      "text/plain": [
       "                       count        mean        std    min    25%     50%  \\\n",
       "age                  96112.0   41.798287  22.472901   0.00   24.0   43.00   \n",
       "hypertension         96112.0    0.077628   0.267587   0.00    0.0    0.00   \n",
       "heart_disease        96112.0    0.040817   0.197867   0.00    0.0    0.00   \n",
       "bmi                  96112.0   27.321923   6.768534  10.01   23.4   27.32   \n",
       "HbA1c_level          96112.0    5.532618   1.073288   3.50    4.8    5.80   \n",
       "blood_glucose_level  96112.0  138.221013  40.911287  80.00  100.0  140.00   \n",
       "diabetes             96112.0    0.088251   0.283661   0.00    0.0    0.00   \n",
       "\n",
       "                        75%     max  \n",
       "age                   59.00   80.00  \n",
       "hypertension           0.00    1.00  \n",
       "heart_disease          0.00    1.00  \n",
       "bmi                   29.86   95.69  \n",
       "HbA1c_level            6.20    9.00  \n",
       "blood_glucose_level  159.00  300.00  \n",
       "diabetes               0.00    1.00  "
      ]
     },
     "execution_count": 8,
     "metadata": {},
     "output_type": "execute_result"
    }
   ],
   "source": [
    "data.describe().T"
   ]
  },
  {
   "cell_type": "markdown",
   "id": "a8861b57-59e7-4aab-bb56-ef6048368068",
   "metadata": {},
   "source": [
    "**Observations**\n",
    "- The minimum age recorded is 0.0 years, while the maximum is 80 years. The extremely low minimum age warrants further investigation for data entry errors.\n",
    "- The minimum BMI is 10, which is significantly below the plausible range for a healthy human. This suggests a potential data entry error or outlier.\n",
    "- The maximum BMI is 90, which exceeds the plausible upper limit, indicating the presence of an outlier.\n",
    "- The minimum HbA1c level is 3.5%, which is lower than expected, suggesting it could be an inaccurate measurement or error.\n",
    "- The maximum HbA1c level of 9% may be considered an outlier depending on the population under study.\n",
    "\n",
    "Outlier removal is a possible solution"
   ]
  },
  {
   "cell_type": "markdown",
   "id": "f36614fa-6bb0-453d-aa5d-8c9879eccc42",
   "metadata": {
    "tags": []
   },
   "source": [
    "## Create Box and histogram plot for each numerical feature"
   ]
  },
  {
   "cell_type": "code",
   "execution_count": 9,
   "id": "741596c8-613b-48da-b93d-15e0812c9cb8",
   "metadata": {
    "tags": []
   },
   "outputs": [],
   "source": [
    "# investigate age against BMI to identify outliers\n",
    "def create_box_histplot(data_frame,columns= [] ,hist = False, box = False):\n",
    "    # make a copy of dataframe\n",
    "    df = data_frame.copy()\n",
    "\n",
    "    # number of columns for subplot is same as number of features\n",
    "    ncolumns = len(columns)\n",
    "    # Set number of columns and dynamic figure size\n",
    "    subplot_width = 5  # Set desired width per subplot\n",
    "    subplot_height = 5  # Set desired height per subplot\n",
    "    figsize = (ncolumns * subplot_width, subplot_height)     \n",
    "    fig, axes = plt.subplots(nrows=1, ncols=ncolumns,figsize = figsize)\n",
    "    \n",
    "    for index, feature in enumerate(columns):\n",
    "        if hist == True:\n",
    "            sns.histplot(data = df[feature], ax = axes[index])\n",
    "        if box == True:\n",
    "            sns.boxplot(data = df[feature], ax=axes[index])\n",
    "    plt.tight_layout()\n",
    "    plt.show();"
   ]
  },
  {
   "cell_type": "code",
   "execution_count": 10,
   "id": "c037f0ba-0a5a-4916-ade7-79c6de26c29a",
   "metadata": {
    "tags": []
   },
   "outputs": [
    {
     "data": {
      "image/png": "[encoded data removed]",
      "text/plain": [
       "<Figure size 3500x500 with 7 Axes>"
      ]
     },
     "metadata": {},
     "output_type": "display_data"
    },
    {
     "data": {
      "image/png": "[encoded data removed]",
      "text/plain": [
       "<Figure size 3500x500 with 7 Axes>"
      ]
     },
     "metadata": {},
     "output_type": "display_data"
    }
   ],
   "source": [
    "create_box_histplot(data_frame=data, columns = data.select_dtypes(exclude = 'object').columns.to_list(),hist = True)\n",
    "create_box_histplot(data_frame=data, columns = data.select_dtypes(exclude = 'object').columns.to_list(), box= True)"
   ]
  },
  {
   "cell_type": "markdown",
   "id": "eeba1829-4ad5-4f8d-adc0-a88a4abb5b22",
   "metadata": {},
   "source": [
    "**Observations**\n",
    "- Outliers are present on **BMI**, **Blood glucose level** and **diabetes.**"
   ]
  },
  {
   "cell_type": "code",
   "execution_count": null,
   "id": "c3c6530f-26fe-47ed-ba43-0b8549cd74ba",
   "metadata": {},
   "outputs": [],
   "source": []
  },
  {
   "cell_type": "code",
   "execution_count": 11,
   "id": "343991dc-8425-4b54-af52-47a73ae99ace",
   "metadata": {
    "tags": []
   },
   "outputs": [],
   "source": [
    "# write a fuction to calculate outliers\n",
    "def find_outliers(data_frame,feature, upper = False, lower = False):\n",
    "    target_feature = \"diabetes\"\n",
    "    # make a copy of dataframe\n",
    "    df = data_frame.copy()\n",
    "     \n",
    "    # calculate Q1 and Q3 and IQR\n",
    "    Q1 = df[feature].quantile(0.25)\n",
    "    Q3 = df[feature].quantile(0.75)\n",
    "    IQR = Q3 - Q1\n",
    "    \n",
    "    # find lower and upper bound\n",
    "    if lower == True:\n",
    "        lower_bound = Q1 - (IQR *1.5)\n",
    "        outlier_df = df[df[feature] < lower_bound]\n",
    "        print(f\"lower bound of {feature} is: {lower_bound}\")\n",
    "    if upper == True:\n",
    "        upper_bound = Q3 + (IQR * 1.5)\n",
    "        outlier_df = df[df[feature] > upper_bound]\n",
    "        print(f\"Upper bound of {feature} is: {upper_bound}\")\n",
    "        \n",
    "    print(f\"the size of the data that are outliers is {outlier_df.shape}\\n\")\n",
    "    print(f\"distribution of target features in outlier is {outlier_df[target_feature].value_counts()}\")"
   ]
  },
  {
   "cell_type": "code",
   "execution_count": 12,
   "id": "81b37046-2021-40c4-8e39-121ed8b23105",
   "metadata": {
    "tags": []
   },
   "outputs": [
    {
     "name": "stdout",
     "output_type": "stream",
     "text": [
      "Upper bound of bmi is: 39.55\n",
      "the size of the data that are outliers is (4940, 9)\n",
      "\n",
      "distribution of target features in outlier is diabetes\n",
      "0    3681\n",
      "1    1259\n",
      "Name: count, dtype: int64\n"
     ]
    }
   ],
   "source": [
    "# find upper outliers for BMI\n",
    "\n",
    "find_outliers(data_frame=data, feature=\"bmi\", upper=True)"
   ]
  },
  {
   "cell_type": "code",
   "execution_count": 13,
   "id": "3dfd1572-8d6a-4e78-bba3-ba773e7120e9",
   "metadata": {},
   "outputs": [
    {
     "name": "stdout",
     "output_type": "stream",
     "text": [
      "lower bound of bmi is: 13.709999999999997\n",
      "the size of the data that are outliers is (414, 9)\n",
      "\n",
      "distribution of target features in outlier is diabetes\n",
      "0    406\n",
      "1      8\n",
      "Name: count, dtype: int64\n"
     ]
    }
   ],
   "source": [
    "# find lower outliers for BMI\n",
    "\n",
    "find_outliers(data_frame=data, feature=\"bmi\", lower=True)"
   ]
  },
  {
   "cell_type": "markdown",
   "id": "7e90b04b-4066-41c7-8680-b1269725ce0b",
   "metadata": {},
   "source": [
    "- Removing all outliers in this case might result in significant loss of information, looking at the number of records classified as outliers and the distribution of target feature"
   ]
  },
  {
   "cell_type": "code",
   "execution_count": null,
   "id": "66b2559a-73e4-4ac0-ac76-52d22b3bbbc1",
   "metadata": {},
   "outputs": [],
   "source": []
  },
  {
   "cell_type": "code",
   "execution_count": 14,
   "id": "969ab11d-2386-46eb-9d1b-9a95eb9f489f",
   "metadata": {
    "tags": []
   },
   "outputs": [
    {
     "name": "stdout",
     "output_type": "stream",
     "text": [
      "Upper bound of HbA1c_level is: 8.3\n",
      "the size of the data that are outliers is (1312, 9)\n",
      "\n",
      "distribution of target features in outlier is diabetes\n",
      "1    1312\n",
      "Name: count, dtype: int64\n"
     ]
    }
   ],
   "source": [
    "# find outliers in HbA1c_level\n",
    "\n",
    "find_outliers(data_frame=data, feature=\"HbA1c_level\", upper=True)"
   ]
  },
  {
   "cell_type": "markdown",
   "id": "bf87e9aa-eb8d-4d80-aab8-c9130707c75e",
   "metadata": {},
   "source": [
    "- Over 1000 records fall above the upper bound\n",
    "- All patients within this category are diabetic. Therefor removing outliers above the upper bound will result in significant information loss"
   ]
  },
  {
   "cell_type": "code",
   "execution_count": null,
   "id": "9a87c52e-1779-4b4f-b4da-64a225543655",
   "metadata": {},
   "outputs": [],
   "source": []
  },
  {
   "cell_type": "code",
   "execution_count": 15,
   "id": "2d383fc9-8118-419e-a9c8-6fecddabbc6b",
   "metadata": {
    "tags": []
   },
   "outputs": [
    {
     "name": "stdout",
     "output_type": "stream",
     "text": [
      "Upper bound of blood_glucose_level is: 247.5\n",
      "the size of the data that are outliers is (2031, 9)\n",
      "\n",
      "distribution of target features in outlier is diabetes\n",
      "1    2031\n",
      "Name: count, dtype: int64\n"
     ]
    }
   ],
   "source": [
    "# Find outliers in blood glucose level\n",
    "\n",
    "find_outliers(data_frame=data, feature=\"blood_glucose_level\", upper=True)"
   ]
  },
  {
   "cell_type": "markdown",
   "id": "aecf0c06-aa0a-410a-8917-e77738188fdf",
   "metadata": {},
   "source": [
    "- Over 2000 records fall above the upper bound\n",
    "- All patients above the upper bound of blood_glucose_level are **diabetic**, suggesting that altering that value will result in significant information loss"
   ]
  },
  {
   "cell_type": "code",
   "execution_count": null,
   "id": "8aa85cf9-951d-423f-99ec-38eb43f66388",
   "metadata": {},
   "outputs": [],
   "source": []
  },
  {
   "cell_type": "markdown",
   "id": "f5a35408-5e7b-4602-afee-a12b789c77dc",
   "metadata": {
    "tags": []
   },
   "source": [
    "# Inspect categorical features"
   ]
  },
  {
   "cell_type": "code",
   "execution_count": 16,
   "id": "1f4c9ac8-42d4-4902-928f-9e3ba8a55ca0",
   "metadata": {
    "tags": []
   },
   "outputs": [
    {
     "data": {
      "text/html": [
       "<div>\n",
       "<style scoped>\n",
       "    .dataframe tbody tr th:only-of-type {\n",
       "        vertical-align: middle;\n",
       "    }\n",
       "\n",
       "    .dataframe tbody tr th {\n",
       "        vertical-align: top;\n",
       "    }\n",
       "\n",
       "    .dataframe thead th {\n",
       "        text-align: right;\n",
       "    }\n",
       "</style>\n",
       "<table border=\"1\" class=\"dataframe\">\n",
       "  <thead>\n",
       "    <tr style=\"text-align: right;\">\n",
       "      <th></th>\n",
       "      <th>gender</th>\n",
       "      <th>smoking_history</th>\n",
       "    </tr>\n",
       "  </thead>\n",
       "  <tbody>\n",
       "    <tr>\n",
       "      <th>0</th>\n",
       "      <td>Female</td>\n",
       "      <td>never</td>\n",
       "    </tr>\n",
       "    <tr>\n",
       "      <th>1</th>\n",
       "      <td>Female</td>\n",
       "      <td>No Info</td>\n",
       "    </tr>\n",
       "    <tr>\n",
       "      <th>2</th>\n",
       "      <td>Male</td>\n",
       "      <td>never</td>\n",
       "    </tr>\n",
       "    <tr>\n",
       "      <th>3</th>\n",
       "      <td>Female</td>\n",
       "      <td>current</td>\n",
       "    </tr>\n",
       "    <tr>\n",
       "      <th>4</th>\n",
       "      <td>Male</td>\n",
       "      <td>current</td>\n",
       "    </tr>\n",
       "  </tbody>\n",
       "</table>\n",
       "</div>"
      ],
      "text/plain": [
       "   gender smoking_history\n",
       "0  Female           never\n",
       "1  Female         No Info\n",
       "2    Male           never\n",
       "3  Female         current\n",
       "4    Male         current"
      ]
     },
     "execution_count": 16,
     "metadata": {},
     "output_type": "execute_result"
    }
   ],
   "source": [
    "# select categorical features from data\n",
    "categorical_df = data.select_dtypes(include = \"object\")\n",
    "categorical_df.head()"
   ]
  },
  {
   "cell_type": "code",
   "execution_count": 17,
   "id": "e48803eb-feb5-4a9f-b872-28b34df8ff14",
   "metadata": {
    "tags": []
   },
   "outputs": [
    {
     "name": "stdout",
     "output_type": "stream",
     "text": [
      "gender\n",
      "Female    56142\n",
      "Male      39952\n",
      "Other        18\n",
      "Name: count, dtype: int64 \n",
      "\n",
      "smoking_history\n",
      "never          34398\n",
      "No Info        32853\n",
      "former          9299\n",
      "current         9197\n",
      "not current     6367\n",
      "ever            3998\n",
      "Name: count, dtype: int64 \n",
      "\n"
     ]
    }
   ],
   "source": [
    "cat_list = categorical_df.columns.to_list()\n",
    "\n",
    "for feature in cat_list:\n",
    "    print(categorical_df[feature].value_counts(),\"\\n\")"
   ]
  },
  {
   "cell_type": "markdown",
   "id": "ab853681-1756-4e90-b8dc-d9ba1fd8131c",
   "metadata": {},
   "source": [
    "**Obsevatios**\n",
    "- Wrong gender category \"Others\"\n",
    "- Similar smoking history: fomer, not current, ever"
   ]
  },
  {
   "cell_type": "code",
   "execution_count": null,
   "id": "5cd102b8-cbfb-4792-b17f-1b5a9f355b4d",
   "metadata": {},
   "outputs": [],
   "source": []
  },
  {
   "cell_type": "markdown",
   "id": "71d4eebf-2a14-4c77-941f-92f5eabc4b38",
   "metadata": {
    "tags": []
   },
   "source": [
    "## reassign \"other\" in gender cateogry to the mode of that feature (female)"
   ]
  },
  {
   "cell_type": "code",
   "execution_count": 18,
   "id": "5c569965-8543-4dc9-b2f9-d86312f748c5",
   "metadata": {
    "tags": []
   },
   "outputs": [],
   "source": [
    "data[\"gender\"] = data[\"gender\"].replace(\"Other\", \"Female\")"
   ]
  },
  {
   "cell_type": "code",
   "execution_count": 19,
   "id": "220b774c-d336-4202-9833-a167a9bbe3b1",
   "metadata": {
    "tags": []
   },
   "outputs": [
    {
     "data": {
      "text/plain": [
       "gender\n",
       "Female    56160\n",
       "Male      39952\n",
       "Name: count, dtype: int64"
      ]
     },
     "execution_count": 19,
     "metadata": {},
     "output_type": "execute_result"
    }
   ],
   "source": [
    "data[\"gender\"].value_counts()"
   ]
  },
  {
   "cell_type": "markdown",
   "id": "32ae0ffa-12f3-428c-9349-f08aa804c5b8",
   "metadata": {},
   "source": [
    "## Convert Gender to all lower case"
   ]
  },
  {
   "cell_type": "code",
   "execution_count": 20,
   "id": "93ce71fd-644e-4df6-aaae-8faf1191bb2b",
   "metadata": {
    "tags": []
   },
   "outputs": [],
   "source": [
    "data[\"gender\"] = data[\"gender\"].str.lower()"
   ]
  },
  {
   "cell_type": "code",
   "execution_count": null,
   "id": "3bae7592-baed-4fd5-af3f-6ef55629d2a3",
   "metadata": {
    "tags": []
   },
   "outputs": [],
   "source": []
  },
  {
   "cell_type": "markdown",
   "id": "d78de480-494c-40eb-8fc1-3c362e6c69c1",
   "metadata": {
    "tags": []
   },
   "source": [
    "## Group \"former\", \"not current\" and \"ever\" into a single category called \"past_smoker\""
   ]
  },
  {
   "cell_type": "code",
   "execution_count": 21,
   "id": "0eab41e7-f54f-4b2b-bc31-cb0f1b957b77",
   "metadata": {
    "tags": []
   },
   "outputs": [],
   "source": [
    "data[\"smoking_history\"] = data[\"smoking_history\"].replace({\"former\":\"past_smoker\",\n",
    "                                                           \"not current\": \"past_smoker\",\n",
    "                                                          \"ever\": \"past_smoker\"})"
   ]
  },
  {
   "cell_type": "code",
   "execution_count": 22,
   "id": "2d7da030-e87b-4097-b5b6-a55261af1a60",
   "metadata": {
    "tags": []
   },
   "outputs": [
    {
     "data": {
      "text/plain": [
       "smoking_history\n",
       "never          34398\n",
       "No Info        32853\n",
       "past_smoker    19664\n",
       "current         9197\n",
       "Name: count, dtype: int64"
      ]
     },
     "execution_count": 22,
     "metadata": {},
     "output_type": "execute_result"
    }
   ],
   "source": [
    "data[\"smoking_history\"].value_counts()"
   ]
  },
  {
   "cell_type": "markdown",
   "id": "62847220-2ab5-40b0-95d4-db3ee1151f97",
   "metadata": {},
   "source": [
    "## Convert Gender to all lower case"
   ]
  },
  {
   "cell_type": "code",
   "execution_count": 23,
   "id": "7693103e-3a20-42dc-925a-2704528e246d",
   "metadata": {},
   "outputs": [],
   "source": [
    "data[\"smoking_history\"] = data[\"smoking_history\"].str.lower()"
   ]
  },
  {
   "cell_type": "code",
   "execution_count": null,
   "id": "547cb4f1-936e-410a-a7e1-f9f4b527d6af",
   "metadata": {
    "tags": []
   },
   "outputs": [],
   "source": []
  },
  {
   "cell_type": "markdown",
   "id": "1da7d131-d92e-4588-a3eb-5a3b9d19b92d",
   "metadata": {
    "tags": []
   },
   "source": [
    "## Check for relationship between age, BMI and smoking history"
   ]
  },
  {
   "cell_type": "markdown",
   "id": "e15098b6-c8fe-4e89-9981-3192ef7b700c",
   "metadata": {},
   "source": [
    "Patients below the age 10 with smoking history"
   ]
  },
  {
   "cell_type": "code",
   "execution_count": 24,
   "id": "cddb63bf-ed3e-47c0-a494-6498715b6c88",
   "metadata": {
    "tags": []
   },
   "outputs": [],
   "source": [
    "below_adolescence = data[data[\"age\"] <= 10]"
   ]
  },
  {
   "cell_type": "code",
   "execution_count": 25,
   "id": "55ceaaa0-2b42-4318-983f-8d18ffb9ed09",
   "metadata": {
    "tags": []
   },
   "outputs": [
    {
     "data": {
      "text/plain": [
       "smoking_history\n",
       "no info        8757\n",
       "never          1288\n",
       "past_smoker     226\n",
       "current          21\n",
       "Name: count, dtype: int64"
      ]
     },
     "execution_count": 25,
     "metadata": {},
     "output_type": "execute_result"
    }
   ],
   "source": [
    "below_adolescence[\"smoking_history\"].value_counts()"
   ]
  },
  {
   "cell_type": "code",
   "execution_count": 26,
   "id": "81fb3e29-17e4-40ca-8389-8c52ad530295",
   "metadata": {
    "tags": []
   },
   "outputs": [
    {
     "data": {
      "text/plain": [
       "diabetes\n",
       "0    224\n",
       "1      2\n",
       "Name: count, dtype: int64"
      ]
     },
     "execution_count": 26,
     "metadata": {},
     "output_type": "execute_result"
    }
   ],
   "source": [
    "below_adolescence[below_adolescence[\"smoking_history\"] == \"past_smoker\"][\"diabetes\"].value_counts()"
   ]
  },
  {
   "cell_type": "code",
   "execution_count": 27,
   "id": "7ad6fa03-f626-4975-9b66-0cca4ec091f3",
   "metadata": {
    "tags": []
   },
   "outputs": [
    {
     "data": {
      "text/plain": [
       "diabetes\n",
       "0    21\n",
       "Name: count, dtype: int64"
      ]
     },
     "execution_count": 27,
     "metadata": {},
     "output_type": "execute_result"
    }
   ],
   "source": [
    "below_adolescence[below_adolescence[\"smoking_history\"] == \"current\"][\"diabetes\"].value_counts()"
   ]
  },
  {
   "cell_type": "code",
   "execution_count": null,
   "id": "974e95b2-a0e4-4587-a254-8877bc44989f",
   "metadata": {},
   "outputs": [],
   "source": []
  },
  {
   "cell_type": "markdown",
   "id": "85f00f02-b87f-44c8-ac04-9a7faa9c1432",
   "metadata": {},
   "source": [
    "**Reasons to Remove These Records:**\n",
    "Biological Implausibility: It is highly unlikely for children under 10 to have a legitimate smoking history, making these records suspect.\n",
    "\n",
    "Inconsistent with Target Feature: The fact that just 2 of these children are diabetic could indicate a lack of correlation between smoking history and the target outcome (diabetes) in this age group. This inconsistency suggests these records do not contribute meaningful information to the model.\n",
    "\n",
    "Data Integrity: Retaining implausible records could introduce noise and reduce model performance. Removing them is likely to lead to a more accurate and reliable model."
   ]
  },
  {
   "cell_type": "code",
   "execution_count": null,
   "id": "069ce899-40f0-4957-ba3d-a2eabdc6653b",
   "metadata": {},
   "outputs": [],
   "source": []
  },
  {
   "cell_type": "code",
   "execution_count": 28,
   "id": "ad587534-5cb9-4642-9daa-631ad6139b23",
   "metadata": {
    "tags": []
   },
   "outputs": [],
   "source": [
    "# Filter and drop records where age is 10 or below and smoking history is either \"current\" or \"past_smoker\"\n",
    "filtered_data = data[~((data[\"age\"] <= 10) & \n",
    "                      (data[\"smoking_history\"].isin([\"current\", \"past_smoker\"])))]"
   ]
  },
  {
   "cell_type": "code",
   "execution_count": 29,
   "id": "6a2d136a-b688-4f2f-9db6-b0ec202bd30b",
   "metadata": {
    "tags": []
   },
   "outputs": [
    {
     "data": {
      "text/plain": [
       "array(['no info', 'never'], dtype=object)"
      ]
     },
     "execution_count": 29,
     "metadata": {},
     "output_type": "execute_result"
    }
   ],
   "source": [
    "# check if the filer took effect\n",
    "filtered_data[filtered_data[\"age\"] <=10][\"smoking_history\"].unique()"
   ]
  },
  {
   "cell_type": "code",
   "execution_count": null,
   "id": "c305c258-b8c5-4106-bf9b-8addf5b25c94",
   "metadata": {},
   "outputs": [],
   "source": []
  },
  {
   "cell_type": "markdown",
   "id": "4ff64fbf-49de-4fb7-ae52-eb6d0e1b8ced",
   "metadata": {},
   "source": [
    "# Save final data"
   ]
  },
  {
   "cell_type": "code",
   "execution_count": 30,
   "id": "82ccc343-53a9-49ec-9bfb-89f377a70da3",
   "metadata": {
    "tags": []
   },
   "outputs": [],
   "source": [
    "filtered_data.to_csv(\"Clean_data.csv\", index = False)"
   ]
  },
  {
   "cell_type": "code",
   "execution_count": null,
   "id": "524f980f-3ab4-4f88-869a-664bd699d37b",
   "metadata": {},
   "outputs": [],
   "source": []
  }
 ],
 "metadata": {
  "kernelspec": {
   "display_name": "Python 3 (ipykernel)",
   "language": "python",
   "name": "python3"
  },
  "language_info": {
   "codemirror_mode": {
    "name": "ipython",
    "version": 3
   },
   "file_extension": ".py",
   "mimetype": "text/x-python",
   "name": "python",
   "nbconvert_exporter": "python",
   "pygments_lexer": "ipython3",
   "version": "3.11.5"
  }
 },
 "nbformat": 4,
 "nbformat_minor": 5
}
