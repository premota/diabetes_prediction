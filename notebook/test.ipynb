{
 "cells": [
  {
   "cell_type": "code",
   "execution_count": 6,
   "metadata": {},
   "outputs": [],
   "source": [
    "import pandas as pd\n",
    "import gdown"
   ]
  },
  {
   "cell_type": "code",
   "execution_count": null,
   "metadata": {},
   "outputs": [],
   "source": [
    "\n",
    "def extract_data(self):\n",
    "    \"\"\"\n",
    "    Downloads data from a specified URL and saves it locally.\n",
    "    \"\"\"\n",
    "\n",
    "    try:\n",
    "        prefix = \"https://drive.google.com/uc?/export=download&id=\"\n",
    "        url = self.config.source_url\n",
    "        data_path = self.config.local_data_file\n",
    "\n",
    "        file_id = url.split(\"/\")[-2]\n",
    "        logging.info(f\"Downloading data from {url}\") \n",
    "        gdown.download(prefix + file_id, data_path)\n",
    "        logging.info(f\"Downloaded data from {url}\")\n",
    "\n",
    "    except Exception as e:\n",
    "        raise CustomException(e, sys)\n"
   ]
  },
  {
   "cell_type": "code",
   "execution_count": 2,
   "metadata": {},
   "outputs": [],
   "source": [
    "prefix = \"https://drive.google.com/uc?/export=download&id=\""
   ]
  },
  {
   "cell_type": "code",
   "execution_count": 11,
   "metadata": {},
   "outputs": [],
   "source": [
    "url  = \"https://drive.google.com/file/d/1dLr9oiwqYrHvztjKOl92zw__yq0Pnw5K/view?usp=sharing\""
   ]
  },
  {
   "cell_type": "code",
   "execution_count": 12,
   "metadata": {},
   "outputs": [],
   "source": [
    "file_id = url.split(\"/\")[-2]"
   ]
  },
  {
   "cell_type": "code",
   "execution_count": 16,
   "metadata": {},
   "outputs": [],
   "source": [
    "path = \"../artifacts/data_ingestion/test.csv\""
   ]
  },
  {
   "cell_type": "code",
   "execution_count": 17,
   "metadata": {},
   "outputs": [
    {
     "name": "stderr",
     "output_type": "stream",
     "text": [
      "Downloading...\n",
      "From: https://drive.google.com/uc?/export=download&id=1dLr9oiwqYrHvztjKOl92zw__yq0Pnw5K\n",
      "To: c:\\Users\\pc\\Desktop\\ML_engineering\\diabetes_prediction\\artifacts\\data_ingestion\\test.csv\n",
      "100%|██████████| 3.81M/3.81M [00:03<00:00, 999kB/s] \n"
     ]
    },
    {
     "data": {
      "text/plain": [
       "'../artifacts/data_ingestion/test.csv'"
      ]
     },
     "execution_count": 17,
     "metadata": {},
     "output_type": "execute_result"
    }
   ],
   "source": [
    "gdown.download(prefix + file_id, path)"
   ]
  },
  {
   "cell_type": "code",
   "execution_count": null,
   "metadata": {},
   "outputs": [],
   "source": []
  },
  {
   "cell_type": "code",
   "execution_count": null,
   "metadata": {},
   "outputs": [],
   "source": []
  }
 ],
 "metadata": {
  "kernelspec": {
   "display_name": "Python 3",
   "language": "python",
   "name": "python3"
  },
  "language_info": {
   "codemirror_mode": {
    "name": "ipython",
    "version": 3
   },
   "file_extension": ".py",
   "mimetype": "text/x-python",
   "name": "python",
   "nbconvert_exporter": "python",
   "pygments_lexer": "ipython3",
   "version": "3.9.0"
  }
 },
 "nbformat": 4,
 "nbformat_minor": 2
}
